{
  "nbformat": 4,
  "nbformat_minor": 0,
  "metadata": {
    "colab": {
      "name": "Untitled3.ipynb",
      "provenance": [],
      "collapsed_sections": [],
      "authorship_tag": "ABX9TyP9nm1m6o4VB2ntFOQ4s0qU",
      "include_colab_link": true
    },
    "kernelspec": {
      "name": "python3",
      "display_name": "Python 3"
    },
    "language_info": {
      "name": "python"
    }
  },
  "cells": [
    {
      "cell_type": "markdown",
      "metadata": {
        "id": "view-in-github",
        "colab_type": "text"
      },
      "source": [
        "<a href=\"https://colab.research.google.com/github/ghassen-elkamel/hello-world/blob/main/food%20recipes%20searsh%20engine.ipynb\" target=\"_parent\"><img src=\"https://colab.research.google.com/assets/colab-badge.svg\" alt=\"Open In Colab\"/></a>"
      ]
    },
    {
      "cell_type": "code",
      "execution_count": 2,
      "metadata": {
        "id": "fOGoop_rGyTV",
        "colab": {
          "base_uri": "https://localhost:8080/"
        },
        "outputId": "91284c29-5de0-427c-8be5-918c75a03670"
      },
      "outputs": [
        {
          "output_type": "stream",
          "name": "stdout",
          "text": [
            "Mounted at /content/gdrive\n"
          ]
        }
      ],
      "source": [
        "from google.colab import drive\n",
        "drive.mount(\"/content/gdrive\", force_remount=True)"
      ]
    },
    {
      "cell_type": "code",
      "source": [
        "!pip install kaggle"
      ],
      "metadata": {
        "colab": {
          "base_uri": "https://localhost:8080/"
        },
        "id": "rkH4qpyeIhOo",
        "outputId": "8f11d006-294d-4f73-e3aa-1cd2c335c19e"
      },
      "execution_count": 3,
      "outputs": [
        {
          "output_type": "stream",
          "name": "stdout",
          "text": [
            "Requirement already satisfied: kaggle in /usr/local/lib/python3.7/dist-packages (1.5.12)\n",
            "Requirement already satisfied: certifi in /usr/local/lib/python3.7/dist-packages (from kaggle) (2021.10.8)\n",
            "Requirement already satisfied: tqdm in /usr/local/lib/python3.7/dist-packages (from kaggle) (4.63.0)\n",
            "Requirement already satisfied: python-dateutil in /usr/local/lib/python3.7/dist-packages (from kaggle) (2.8.2)\n",
            "Requirement already satisfied: urllib3 in /usr/local/lib/python3.7/dist-packages (from kaggle) (1.24.3)\n",
            "Requirement already satisfied: python-slugify in /usr/local/lib/python3.7/dist-packages (from kaggle) (6.1.1)\n",
            "Requirement already satisfied: requests in /usr/local/lib/python3.7/dist-packages (from kaggle) (2.23.0)\n",
            "Requirement already satisfied: six>=1.10 in /usr/local/lib/python3.7/dist-packages (from kaggle) (1.15.0)\n",
            "Requirement already satisfied: text-unidecode>=1.3 in /usr/local/lib/python3.7/dist-packages (from python-slugify->kaggle) (1.3)\n",
            "Requirement already satisfied: idna<3,>=2.5 in /usr/local/lib/python3.7/dist-packages (from requests->kaggle) (2.10)\n",
            "Requirement already satisfied: chardet<4,>=3.0.2 in /usr/local/lib/python3.7/dist-packages (from requests->kaggle) (3.0.4)\n"
          ]
        }
      ]
    },
    {
      "cell_type": "code",
      "source": [
        "%cd /content/gdrive/MyDrive/AI/\n"
      ],
      "metadata": {
        "colab": {
          "base_uri": "https://localhost:8080/"
        },
        "id": "bvHMnyL_Ivpe",
        "outputId": "f041e00d-773b-46d7-8203-9e4b22e51e48"
      },
      "execution_count": 4,
      "outputs": [
        {
          "output_type": "stream",
          "name": "stdout",
          "text": [
            "/content/gdrive/MyDrive/AI\n"
          ]
        }
      ]
    },
    {
      "cell_type": "code",
      "source": [
        "import os\n",
        "os.environ['KAGGLE_CONFIG_DIR'] = \"/content/gdrive/MyDrive/AI/\"\n"
      ],
      "metadata": {
        "id": "V0qiMFT4I8rb"
      },
      "execution_count": 5,
      "outputs": []
    },
    {
      "cell_type": "code",
      "source": [
        "!kaggle datasets download -d paultimothymooney/recipenlg\n"
      ],
      "metadata": {
        "colab": {
          "base_uri": "https://localhost:8080/"
        },
        "id": "UQKYjR13JU1t",
        "outputId": "2c094803-ddd4-4804-b441-0aa78a00de1f"
      },
      "execution_count": 6,
      "outputs": [
        {
          "output_type": "stream",
          "name": "stdout",
          "text": [
            "recipenlg.zip: Skipping, found more recently modified local copy (use --force to force download)\n"
          ]
        }
      ]
    },
    {
      "cell_type": "code",
      "source": [
        "!unzip recipenlg.zip\n"
      ],
      "metadata": {
        "colab": {
          "base_uri": "https://localhost:8080/"
        },
        "id": "kBD_7c7VKTvV",
        "outputId": "8804f7c1-552e-4561-8d7e-e088e3387cf0"
      },
      "execution_count": 7,
      "outputs": [
        {
          "output_type": "stream",
          "name": "stdout",
          "text": [
            "Archive:  recipenlg.zip\n",
            "replace RecipeNLG_code/README.md? [y]es, [n]o, [A]ll, [N]one, [r]ename: A\n",
            "  inflating: RecipeNLG_code/README.md  \n",
            "  inflating: RecipeNLG_code/eval/evaluation.ipynb  \n",
            "  inflating: RecipeNLG_code/generation/README.md  \n",
            "  inflating: RecipeNLG_code/generation/SAMPLE.md  \n",
            "  inflating: RecipeNLG_code/generation/dataset2text.ipynb  \n",
            "  inflating: RecipeNLG_code/generation/preparation.py  \n",
            "  inflating: RecipeNLG_code/generation/run_generation.py  \n",
            "  inflating: RecipeNLG_code/generation/run_lm_finetuning.py  \n",
            "  inflating: RecipeNLG_code/generation/run_lm_finetuning_new.py  \n",
            "  inflating: RecipeNLG_code/generation/run_lm_finetuning_tpu.py  \n",
            "  inflating: RecipeNLG_code/generation/tokenization.py  \n",
            "  inflating: RecipeNLG_code/ner/Language2_0.ipynb  \n",
            "  inflating: RecipeNLG_code/ner/NER.ipynb  \n",
            "  inflating: RecipeNLG_code/ner/model/meta.json  \n",
            "  inflating: RecipeNLG_code/ner/model/ner/cfg  \n",
            "  inflating: RecipeNLG_code/ner/model/ner/model  \n",
            "  inflating: RecipeNLG_code/ner/model/ner/moves  \n",
            "  inflating: RecipeNLG_code/ner/model/tokenizer  \n",
            "  inflating: RecipeNLG_code/ner/model/vocab/key2row  \n",
            "  inflating: RecipeNLG_code/ner/model/vocab/lexemes.bin  \n",
            "  inflating: RecipeNLG_code/ner/model/vocab/strings.json  \n",
            "  inflating: RecipeNLG_code/ner/model/vocab/vectors  \n",
            "  inflating: RecipeNLG_code/recipes_spider/Makefile  \n",
            "  inflating: RecipeNLG_code/recipes_spider/README.md  \n",
            "  inflating: RecipeNLG_code/recipes_spider/recipes_spider/__init__.py  \n",
            "  inflating: RecipeNLG_code/recipes_spider/recipes_spider/files/hubs.txt  \n",
            "  inflating: RecipeNLG_code/recipes_spider/recipes_spider/items.py  \n",
            "  inflating: RecipeNLG_code/recipes_spider/recipes_spider/middlewares.py  \n",
            "  inflating: RecipeNLG_code/recipes_spider/recipes_spider/pipelines.py  \n",
            "  inflating: RecipeNLG_code/recipes_spider/recipes_spider/settings.py  \n",
            "  inflating: RecipeNLG_code/recipes_spider/recipes_spider/spiders/__init__.py  \n",
            "  inflating: RecipeNLG_code/recipes_spider/recipes_spider/spiders/cdkitchen.py  \n",
            "  inflating: RecipeNLG_code/recipes_spider/recipes_spider/spiders/epicurious.py  \n",
            "  inflating: RecipeNLG_code/recipes_spider/recipes_spider/spiders/example.py  \n",
            "  inflating: RecipeNLG_code/recipes_spider/recipes_spider/spiders/food52.py  \n",
            "  inflating: RecipeNLG_code/recipes_spider/recipes_spider/spiders/myrecipes.py  \n",
            "  inflating: RecipeNLG_code/recipes_spider/recipes_spider/spiders/seriouseats.py  \n",
            "  inflating: RecipeNLG_code/recipes_spider/recipes_spider/spiders/tasteofhome.py  \n",
            "  inflating: RecipeNLG_code/recipes_spider/recipes_spider/spiders/tastykitchen.py  \n",
            "  inflating: RecipeNLG_code/recipes_spider/recipes_spider/spiders/ucgCrawler.py  \n",
            "  inflating: RecipeNLG_code/recipes_spider/recipes_spider/spiders/ucgSpider.py  \n",
            "  inflating: RecipeNLG_code/recipes_spider/recipes_spider/spiders/yummly.py  \n",
            "  inflating: RecipeNLG_code/recipes_spider/scrapy.cfg  \n",
            "  inflating: RecipeNLG_code/recipes_spider/setup.py  \n",
            "  inflating: RecipeNLG_code/requirements.txt  \n",
            "  inflating: RecipeNLG_code/scraping-scripts/.gitignore  \n",
            "  inflating: RecipeNLG_code/scraping-scripts/01-single_dataset.ipynb  \n",
            "  inflating: RecipeNLG_code/scraping-scripts/02-dataset_tuning.ipynb  \n",
            "  inflating: RecipeNLG_code/scraping-scripts/03-join_datasets.ipynb  \n",
            "  inflating: RecipeNLG_code/scraping-scripts/04.1-cleanse-positive-pairs-dataset.py  \n",
            "  inflating: RecipeNLG_code/scraping-scripts/04.2-train-dataset-find-similar.sh  \n",
            "  inflating: RecipeNLG_code/scraping-scripts/04.3-determine-hyperparameter-value.ipynb  \n",
            "  inflating: RecipeNLG_code/scraping-scripts/04.4-dataset-find-similar.sh  \n",
            "  inflating: RecipeNLG_code/scraping-scripts/04.5-duplicates-veryfication.ipynb  \n",
            "  inflating: RecipeNLG_code/scraping-scripts/05-advanced-duplicates-removal.ipynb  \n",
            "  inflating: RecipeNLG_code/scraping-scripts/06-comparisons_plots.ipynb  \n",
            "  inflating: RecipeNLG_code/scraping-scripts/README.md  \n",
            "  inflating: RecipeNLG_code/scraping-scripts/allrecipes/allrecipes.ipynb  \n",
            "  inflating: RecipeNLG_code/scraping-scripts/allrecipes/allrecipes_spider.ipynb  \n",
            "  inflating: RecipeNLG_code/scraping-scripts/allrecipes/analysis.ipynb  \n",
            "  inflating: RecipeNLG_code/scraping-scripts/allrecipes/crawl_allrecipes_faster.py  \n",
            "  inflating: RecipeNLG_code/scraping-scripts/allrecipes/packer.py  \n",
            "  inflating: RecipeNLG_code/scraping-scripts/cookbooks/analysis.ipynb  \n",
            "  inflating: RecipeNLG_code/scraping-scripts/cookbooks/cookbooks.ipynb  \n",
            "  inflating: RecipeNLG_code/scraping-scripts/cookbooks/crawl_cookbooks_faster.py  \n",
            "  inflating: RecipeNLG_code/scraping-scripts/cookbooks/packer.py  \n",
            "  inflating: RecipeNLG_code/scraping-scripts/crawling_framework_v1.ipynb  \n",
            "  inflating: RecipeNLG_code/scraping-scripts/crawling_prep.ipynb  \n",
            "  inflating: RecipeNLG_code/scraping-scripts/extra-01-remove_different_language_recipes.ipynb  \n",
            "  inflating: RecipeNLG_code/scraping-scripts/extra-02-join-ner-url.ipynb  \n",
            "  inflating: RecipeNLG_code/scraping-scripts/foodcom/crawl_foodcom.py  \n",
            "  inflating: RecipeNLG_code/scraping-scripts/foodcom/foodcom.ipynb  \n",
            "  inflating: RecipeNLG_code/scraping-scripts/foodcom/packer.py  \n",
            "  inflating: RecipeNLG_code/scraping-scripts/manual-checkup.ipynb  \n",
            "  inflating: RecipeNLG_code/scraping-scripts/recipes-plus/crawl_recipes_plus.py  \n",
            "  inflating: RecipeNLG_code/scraping-scripts/recipes-plus/packer.py  \n",
            "  inflating: RecipeNLG_code/scraping-scripts/recipes1M-issues.ipynb  \n",
            "  inflating: RecipeNLG_code/scraping-scripts/recipes1M-stats.ipynb  \n",
            "  inflating: RecipeNLG_code/scraping-scripts/recipes1M-transform.ipynb  \n",
            "  inflating: RecipeNLG_code/scraping-scripts/similar_search_script.py  \n",
            "  inflating: RecipeNLG_code/scraping-scripts/train-positive-pairs-cleanse.ipynb  \n",
            "  inflating: RecipeNLG_code/scraping-scripts/yummly/yummly.ipynb  \n",
            "  inflating: RecipeNLG_dataset.csv   \n",
            "  inflating: RecipeNLG_license.png   \n",
            "  inflating: RecipeNLG_paper.pdf     \n"
          ]
        }
      ]
    },
    {
      "cell_type": "code",
      "source": [
        "nltk.download('stopwords')"
      ],
      "metadata": {
        "colab": {
          "base_uri": "https://localhost:8080/"
        },
        "id": "7OSeRjAW22KG",
        "outputId": "d81e5130-2d3e-4b47-dc9e-dc70a035c75d"
      },
      "execution_count": 25,
      "outputs": [
        {
          "output_type": "stream",
          "name": "stdout",
          "text": [
            "[nltk_data] Downloading package stopwords to /root/nltk_data...\n",
            "[nltk_data]   Unzipping corpora/stopwords.zip.\n"
          ]
        },
        {
          "output_type": "execute_result",
          "data": {
            "text/plain": [
              "True"
            ]
          },
          "metadata": {},
          "execution_count": 25
        }
      ]
    },
    {
      "cell_type": "code",
      "source": [
        "import pandas as pd \n",
        "import nltk\n",
        "dataset= pd.read_csv('RecipeNLG_dataset.csv',on_bad_lines='skip')\n",
        "\n",
        "dataset[['title','directions','NER']].head()\n"
      ],
      "metadata": {
        "colab": {
          "base_uri": "https://localhost:8080/",
          "height": 206
        },
        "id": "2kC7MjxnKD_m",
        "outputId": "050f492f-6f9f-4955-d7c8-dde841f76941"
      },
      "execution_count": 8,
      "outputs": [
        {
          "output_type": "execute_result",
          "data": {
            "text/plain": [
              "                   title                                         directions  \\\n",
              "0    No-Bake Nut Cookies  [\"In a heavy 2-quart saucepan, mix brown sugar...   \n",
              "1  Jewell Ball'S Chicken  [\"Place chipped beef on bottom of baking dish....   \n",
              "2            Creamy Corn  [\"In a slow cooker, combine all ingredients. C...   \n",
              "3          Chicken Funny  [\"Boil and debone chicken.\", \"Put bite size pi...   \n",
              "4   Reeses Cups(Candy)    [\"Combine first four ingredients and press in ...   \n",
              "\n",
              "                                                 NER  \n",
              "0  [\"brown sugar\", \"milk\", \"vanilla\", \"nuts\", \"bu...  \n",
              "1  [\"beef\", \"chicken breasts\", \"cream of mushroom...  \n",
              "2  [\"frozen corn\", \"cream cheese\", \"butter\", \"gar...  \n",
              "3  [\"chicken\", \"chicken gravy\", \"cream of mushroo...  \n",
              "4  [\"peanut butter\", \"graham cracker crumbs\", \"bu...  "
            ],
            "text/html": [
              "\n",
              "  <div id=\"df-4184b051-e9ae-48c3-9680-3676baccf80c\">\n",
              "    <div class=\"colab-df-container\">\n",
              "      <div>\n",
              "<style scoped>\n",
              "    .dataframe tbody tr th:only-of-type {\n",
              "        vertical-align: middle;\n",
              "    }\n",
              "\n",
              "    .dataframe tbody tr th {\n",
              "        vertical-align: top;\n",
              "    }\n",
              "\n",
              "    .dataframe thead th {\n",
              "        text-align: right;\n",
              "    }\n",
              "</style>\n",
              "<table border=\"1\" class=\"dataframe\">\n",
              "  <thead>\n",
              "    <tr style=\"text-align: right;\">\n",
              "      <th></th>\n",
              "      <th>title</th>\n",
              "      <th>directions</th>\n",
              "      <th>NER</th>\n",
              "    </tr>\n",
              "  </thead>\n",
              "  <tbody>\n",
              "    <tr>\n",
              "      <th>0</th>\n",
              "      <td>No-Bake Nut Cookies</td>\n",
              "      <td>[\"In a heavy 2-quart saucepan, mix brown sugar...</td>\n",
              "      <td>[\"brown sugar\", \"milk\", \"vanilla\", \"nuts\", \"bu...</td>\n",
              "    </tr>\n",
              "    <tr>\n",
              "      <th>1</th>\n",
              "      <td>Jewell Ball'S Chicken</td>\n",
              "      <td>[\"Place chipped beef on bottom of baking dish....</td>\n",
              "      <td>[\"beef\", \"chicken breasts\", \"cream of mushroom...</td>\n",
              "    </tr>\n",
              "    <tr>\n",
              "      <th>2</th>\n",
              "      <td>Creamy Corn</td>\n",
              "      <td>[\"In a slow cooker, combine all ingredients. C...</td>\n",
              "      <td>[\"frozen corn\", \"cream cheese\", \"butter\", \"gar...</td>\n",
              "    </tr>\n",
              "    <tr>\n",
              "      <th>3</th>\n",
              "      <td>Chicken Funny</td>\n",
              "      <td>[\"Boil and debone chicken.\", \"Put bite size pi...</td>\n",
              "      <td>[\"chicken\", \"chicken gravy\", \"cream of mushroo...</td>\n",
              "    </tr>\n",
              "    <tr>\n",
              "      <th>4</th>\n",
              "      <td>Reeses Cups(Candy)</td>\n",
              "      <td>[\"Combine first four ingredients and press in ...</td>\n",
              "      <td>[\"peanut butter\", \"graham cracker crumbs\", \"bu...</td>\n",
              "    </tr>\n",
              "  </tbody>\n",
              "</table>\n",
              "</div>\n",
              "      <button class=\"colab-df-convert\" onclick=\"convertToInteractive('df-4184b051-e9ae-48c3-9680-3676baccf80c')\"\n",
              "              title=\"Convert this dataframe to an interactive table.\"\n",
              "              style=\"display:none;\">\n",
              "        \n",
              "  <svg xmlns=\"http://www.w3.org/2000/svg\" height=\"24px\"viewBox=\"0 0 24 24\"\n",
              "       width=\"24px\">\n",
              "    <path d=\"M0 0h24v24H0V0z\" fill=\"none\"/>\n",
              "    <path d=\"M18.56 5.44l.94 2.06.94-2.06 2.06-.94-2.06-.94-.94-2.06-.94 2.06-2.06.94zm-11 1L8.5 8.5l.94-2.06 2.06-.94-2.06-.94L8.5 2.5l-.94 2.06-2.06.94zm10 10l.94 2.06.94-2.06 2.06-.94-2.06-.94-.94-2.06-.94 2.06-2.06.94z\"/><path d=\"M17.41 7.96l-1.37-1.37c-.4-.4-.92-.59-1.43-.59-.52 0-1.04.2-1.43.59L10.3 9.45l-7.72 7.72c-.78.78-.78 2.05 0 2.83L4 21.41c.39.39.9.59 1.41.59.51 0 1.02-.2 1.41-.59l7.78-7.78 2.81-2.81c.8-.78.8-2.07 0-2.86zM5.41 20L4 18.59l7.72-7.72 1.47 1.35L5.41 20z\"/>\n",
              "  </svg>\n",
              "      </button>\n",
              "      \n",
              "  <style>\n",
              "    .colab-df-container {\n",
              "      display:flex;\n",
              "      flex-wrap:wrap;\n",
              "      gap: 12px;\n",
              "    }\n",
              "\n",
              "    .colab-df-convert {\n",
              "      background-color: #E8F0FE;\n",
              "      border: none;\n",
              "      border-radius: 50%;\n",
              "      cursor: pointer;\n",
              "      display: none;\n",
              "      fill: #1967D2;\n",
              "      height: 32px;\n",
              "      padding: 0 0 0 0;\n",
              "      width: 32px;\n",
              "    }\n",
              "\n",
              "    .colab-df-convert:hover {\n",
              "      background-color: #E2EBFA;\n",
              "      box-shadow: 0px 1px 2px rgba(60, 64, 67, 0.3), 0px 1px 3px 1px rgba(60, 64, 67, 0.15);\n",
              "      fill: #174EA6;\n",
              "    }\n",
              "\n",
              "    [theme=dark] .colab-df-convert {\n",
              "      background-color: #3B4455;\n",
              "      fill: #D2E3FC;\n",
              "    }\n",
              "\n",
              "    [theme=dark] .colab-df-convert:hover {\n",
              "      background-color: #434B5C;\n",
              "      box-shadow: 0px 1px 3px 1px rgba(0, 0, 0, 0.15);\n",
              "      filter: drop-shadow(0px 1px 2px rgba(0, 0, 0, 0.3));\n",
              "      fill: #FFFFFF;\n",
              "    }\n",
              "  </style>\n",
              "\n",
              "      <script>\n",
              "        const buttonEl =\n",
              "          document.querySelector('#df-4184b051-e9ae-48c3-9680-3676baccf80c button.colab-df-convert');\n",
              "        buttonEl.style.display =\n",
              "          google.colab.kernel.accessAllowed ? 'block' : 'none';\n",
              "\n",
              "        async function convertToInteractive(key) {\n",
              "          const element = document.querySelector('#df-4184b051-e9ae-48c3-9680-3676baccf80c');\n",
              "          const dataTable =\n",
              "            await google.colab.kernel.invokeFunction('convertToInteractive',\n",
              "                                                     [key], {});\n",
              "          if (!dataTable) return;\n",
              "\n",
              "          const docLinkHtml = 'Like what you see? Visit the ' +\n",
              "            '<a target=\"_blank\" href=https://colab.research.google.com/notebooks/data_table.ipynb>data table notebook</a>'\n",
              "            + ' to learn more about interactive tables.';\n",
              "          element.innerHTML = '';\n",
              "          dataTable['output_type'] = 'display_data';\n",
              "          await google.colab.output.renderOutput(dataTable, element);\n",
              "          const docLink = document.createElement('div');\n",
              "          docLink.innerHTML = docLinkHtml;\n",
              "          element.appendChild(docLink);\n",
              "        }\n",
              "      </script>\n",
              "    </div>\n",
              "  </div>\n",
              "  "
            ]
          },
          "metadata": {},
          "execution_count": 8
        }
      ]
    },
    {
      "cell_type": "code",
      "source": [
        "import string\n",
        "def remove_penctuation(txt):\n",
        "    txt_nopenct=\"\".join([c for c in txt if c not in string.punctuation])\n",
        "    return  txt_nopenct"
      ],
      "metadata": {
        "id": "1gJe4NDeLJMy"
      },
      "execution_count": 9,
      "outputs": []
    },
    {
      "cell_type": "code",
      "source": [
        "dataset['directions_clean']=dataset['directions'].apply(lambda x: remove_penctuation(x))"
      ],
      "metadata": {
        "id": "M8776i7ALN-J"
      },
      "execution_count": 10,
      "outputs": []
    },
    {
      "cell_type": "code",
      "source": [
        "dataset[['title','directions','directions_clean','NER']].head(5)"
      ],
      "metadata": {
        "colab": {
          "base_uri": "https://localhost:8080/",
          "height": 206
        },
        "id": "yssYSh2XL8yR",
        "outputId": "1428702c-ca25-4014-8951-2791a2c7507c"
      },
      "execution_count": 11,
      "outputs": [
        {
          "output_type": "execute_result",
          "data": {
            "text/plain": [
              "                   title                                         directions  \\\n",
              "0    No-Bake Nut Cookies  [\"In a heavy 2-quart saucepan, mix brown sugar...   \n",
              "1  Jewell Ball'S Chicken  [\"Place chipped beef on bottom of baking dish....   \n",
              "2            Creamy Corn  [\"In a slow cooker, combine all ingredients. C...   \n",
              "3          Chicken Funny  [\"Boil and debone chicken.\", \"Put bite size pi...   \n",
              "4   Reeses Cups(Candy)    [\"Combine first four ingredients and press in ...   \n",
              "\n",
              "                                    directions_clean  \\\n",
              "0  In a heavy 2quart saucepan mix brown sugar nut...   \n",
              "1  Place chipped beef on bottom of baking dish Pl...   \n",
              "2  In a slow cooker combine all ingredients Cover...   \n",
              "3  Boil and debone chicken Put bite size pieces i...   \n",
              "4  Combine first four ingredients and press in 13...   \n",
              "\n",
              "                                                 NER  \n",
              "0  [\"brown sugar\", \"milk\", \"vanilla\", \"nuts\", \"bu...  \n",
              "1  [\"beef\", \"chicken breasts\", \"cream of mushroom...  \n",
              "2  [\"frozen corn\", \"cream cheese\", \"butter\", \"gar...  \n",
              "3  [\"chicken\", \"chicken gravy\", \"cream of mushroo...  \n",
              "4  [\"peanut butter\", \"graham cracker crumbs\", \"bu...  "
            ],
            "text/html": [
              "\n",
              "  <div id=\"df-1a3d0bbf-867f-41f6-949a-0b8a841fa169\">\n",
              "    <div class=\"colab-df-container\">\n",
              "      <div>\n",
              "<style scoped>\n",
              "    .dataframe tbody tr th:only-of-type {\n",
              "        vertical-align: middle;\n",
              "    }\n",
              "\n",
              "    .dataframe tbody tr th {\n",
              "        vertical-align: top;\n",
              "    }\n",
              "\n",
              "    .dataframe thead th {\n",
              "        text-align: right;\n",
              "    }\n",
              "</style>\n",
              "<table border=\"1\" class=\"dataframe\">\n",
              "  <thead>\n",
              "    <tr style=\"text-align: right;\">\n",
              "      <th></th>\n",
              "      <th>title</th>\n",
              "      <th>directions</th>\n",
              "      <th>directions_clean</th>\n",
              "      <th>NER</th>\n",
              "    </tr>\n",
              "  </thead>\n",
              "  <tbody>\n",
              "    <tr>\n",
              "      <th>0</th>\n",
              "      <td>No-Bake Nut Cookies</td>\n",
              "      <td>[\"In a heavy 2-quart saucepan, mix brown sugar...</td>\n",
              "      <td>In a heavy 2quart saucepan mix brown sugar nut...</td>\n",
              "      <td>[\"brown sugar\", \"milk\", \"vanilla\", \"nuts\", \"bu...</td>\n",
              "    </tr>\n",
              "    <tr>\n",
              "      <th>1</th>\n",
              "      <td>Jewell Ball'S Chicken</td>\n",
              "      <td>[\"Place chipped beef on bottom of baking dish....</td>\n",
              "      <td>Place chipped beef on bottom of baking dish Pl...</td>\n",
              "      <td>[\"beef\", \"chicken breasts\", \"cream of mushroom...</td>\n",
              "    </tr>\n",
              "    <tr>\n",
              "      <th>2</th>\n",
              "      <td>Creamy Corn</td>\n",
              "      <td>[\"In a slow cooker, combine all ingredients. C...</td>\n",
              "      <td>In a slow cooker combine all ingredients Cover...</td>\n",
              "      <td>[\"frozen corn\", \"cream cheese\", \"butter\", \"gar...</td>\n",
              "    </tr>\n",
              "    <tr>\n",
              "      <th>3</th>\n",
              "      <td>Chicken Funny</td>\n",
              "      <td>[\"Boil and debone chicken.\", \"Put bite size pi...</td>\n",
              "      <td>Boil and debone chicken Put bite size pieces i...</td>\n",
              "      <td>[\"chicken\", \"chicken gravy\", \"cream of mushroo...</td>\n",
              "    </tr>\n",
              "    <tr>\n",
              "      <th>4</th>\n",
              "      <td>Reeses Cups(Candy)</td>\n",
              "      <td>[\"Combine first four ingredients and press in ...</td>\n",
              "      <td>Combine first four ingredients and press in 13...</td>\n",
              "      <td>[\"peanut butter\", \"graham cracker crumbs\", \"bu...</td>\n",
              "    </tr>\n",
              "  </tbody>\n",
              "</table>\n",
              "</div>\n",
              "      <button class=\"colab-df-convert\" onclick=\"convertToInteractive('df-1a3d0bbf-867f-41f6-949a-0b8a841fa169')\"\n",
              "              title=\"Convert this dataframe to an interactive table.\"\n",
              "              style=\"display:none;\">\n",
              "        \n",
              "  <svg xmlns=\"http://www.w3.org/2000/svg\" height=\"24px\"viewBox=\"0 0 24 24\"\n",
              "       width=\"24px\">\n",
              "    <path d=\"M0 0h24v24H0V0z\" fill=\"none\"/>\n",
              "    <path d=\"M18.56 5.44l.94 2.06.94-2.06 2.06-.94-2.06-.94-.94-2.06-.94 2.06-2.06.94zm-11 1L8.5 8.5l.94-2.06 2.06-.94-2.06-.94L8.5 2.5l-.94 2.06-2.06.94zm10 10l.94 2.06.94-2.06 2.06-.94-2.06-.94-.94-2.06-.94 2.06-2.06.94z\"/><path d=\"M17.41 7.96l-1.37-1.37c-.4-.4-.92-.59-1.43-.59-.52 0-1.04.2-1.43.59L10.3 9.45l-7.72 7.72c-.78.78-.78 2.05 0 2.83L4 21.41c.39.39.9.59 1.41.59.51 0 1.02-.2 1.41-.59l7.78-7.78 2.81-2.81c.8-.78.8-2.07 0-2.86zM5.41 20L4 18.59l7.72-7.72 1.47 1.35L5.41 20z\"/>\n",
              "  </svg>\n",
              "      </button>\n",
              "      \n",
              "  <style>\n",
              "    .colab-df-container {\n",
              "      display:flex;\n",
              "      flex-wrap:wrap;\n",
              "      gap: 12px;\n",
              "    }\n",
              "\n",
              "    .colab-df-convert {\n",
              "      background-color: #E8F0FE;\n",
              "      border: none;\n",
              "      border-radius: 50%;\n",
              "      cursor: pointer;\n",
              "      display: none;\n",
              "      fill: #1967D2;\n",
              "      height: 32px;\n",
              "      padding: 0 0 0 0;\n",
              "      width: 32px;\n",
              "    }\n",
              "\n",
              "    .colab-df-convert:hover {\n",
              "      background-color: #E2EBFA;\n",
              "      box-shadow: 0px 1px 2px rgba(60, 64, 67, 0.3), 0px 1px 3px 1px rgba(60, 64, 67, 0.15);\n",
              "      fill: #174EA6;\n",
              "    }\n",
              "\n",
              "    [theme=dark] .colab-df-convert {\n",
              "      background-color: #3B4455;\n",
              "      fill: #D2E3FC;\n",
              "    }\n",
              "\n",
              "    [theme=dark] .colab-df-convert:hover {\n",
              "      background-color: #434B5C;\n",
              "      box-shadow: 0px 1px 3px 1px rgba(0, 0, 0, 0.15);\n",
              "      filter: drop-shadow(0px 1px 2px rgba(0, 0, 0, 0.3));\n",
              "      fill: #FFFFFF;\n",
              "    }\n",
              "  </style>\n",
              "\n",
              "      <script>\n",
              "        const buttonEl =\n",
              "          document.querySelector('#df-1a3d0bbf-867f-41f6-949a-0b8a841fa169 button.colab-df-convert');\n",
              "        buttonEl.style.display =\n",
              "          google.colab.kernel.accessAllowed ? 'block' : 'none';\n",
              "\n",
              "        async function convertToInteractive(key) {\n",
              "          const element = document.querySelector('#df-1a3d0bbf-867f-41f6-949a-0b8a841fa169');\n",
              "          const dataTable =\n",
              "            await google.colab.kernel.invokeFunction('convertToInteractive',\n",
              "                                                     [key], {});\n",
              "          if (!dataTable) return;\n",
              "\n",
              "          const docLinkHtml = 'Like what you see? Visit the ' +\n",
              "            '<a target=\"_blank\" href=https://colab.research.google.com/notebooks/data_table.ipynb>data table notebook</a>'\n",
              "            + ' to learn more about interactive tables.';\n",
              "          element.innerHTML = '';\n",
              "          dataTable['output_type'] = 'display_data';\n",
              "          await google.colab.output.renderOutput(dataTable, element);\n",
              "          const docLink = document.createElement('div');\n",
              "          docLink.innerHTML = docLinkHtml;\n",
              "          element.appendChild(docLink);\n",
              "        }\n",
              "      </script>\n",
              "    </div>\n",
              "  </div>\n",
              "  "
            ]
          },
          "metadata": {},
          "execution_count": 11
        }
      ]
    },
    {
      "cell_type": "code",
      "source": [
        "import re\n",
        "def tokenize(txt):\n",
        "    tokens=re.split('\\w+',txt)\n",
        "    return tokens\n",
        "\n",
        "dataset['directions_clean_tokenized']=dataset['directions_clean'].apply(lambda x: tokenize(x.lower()))\n",
        "dataset.head()"
      ],
      "metadata": {
        "colab": {
          "base_uri": "https://localhost:8080/",
          "height": 441
        },
        "id": "UTnPixGjMNpU",
        "outputId": "3a98aecb-e23d-43d9-bc74-6644dabec1e5"
      },
      "execution_count": 12,
      "outputs": [
        {
          "output_type": "execute_result",
          "data": {
            "text/plain": [
              "   Unnamed: 0                  title  \\\n",
              "0           0    No-Bake Nut Cookies   \n",
              "1           1  Jewell Ball'S Chicken   \n",
              "2           2            Creamy Corn   \n",
              "3           3          Chicken Funny   \n",
              "4           4   Reeses Cups(Candy)     \n",
              "\n",
              "                                         ingredients  \\\n",
              "0  [\"1 c. firmly packed brown sugar\", \"1/2 c. eva...   \n",
              "1  [\"1 small jar chipped beef, cut up\", \"4 boned ...   \n",
              "2  [\"2 (16 oz.) pkg. frozen corn\", \"1 (8 oz.) pkg...   \n",
              "3  [\"1 large whole chicken\", \"2 (10 1/2 oz.) cans...   \n",
              "4  [\"1 c. peanut butter\", \"3/4 c. graham cracker ...   \n",
              "\n",
              "                                          directions  \\\n",
              "0  [\"In a heavy 2-quart saucepan, mix brown sugar...   \n",
              "1  [\"Place chipped beef on bottom of baking dish....   \n",
              "2  [\"In a slow cooker, combine all ingredients. C...   \n",
              "3  [\"Boil and debone chicken.\", \"Put bite size pi...   \n",
              "4  [\"Combine first four ingredients and press in ...   \n",
              "\n",
              "                                              link    source  \\\n",
              "0   www.cookbooks.com/Recipe-Details.aspx?id=44874  Gathered   \n",
              "1  www.cookbooks.com/Recipe-Details.aspx?id=699419  Gathered   \n",
              "2   www.cookbooks.com/Recipe-Details.aspx?id=10570  Gathered   \n",
              "3  www.cookbooks.com/Recipe-Details.aspx?id=897570  Gathered   \n",
              "4  www.cookbooks.com/Recipe-Details.aspx?id=659239  Gathered   \n",
              "\n",
              "                                                 NER  \\\n",
              "0  [\"brown sugar\", \"milk\", \"vanilla\", \"nuts\", \"bu...   \n",
              "1  [\"beef\", \"chicken breasts\", \"cream of mushroom...   \n",
              "2  [\"frozen corn\", \"cream cheese\", \"butter\", \"gar...   \n",
              "3  [\"chicken\", \"chicken gravy\", \"cream of mushroo...   \n",
              "4  [\"peanut butter\", \"graham cracker crumbs\", \"bu...   \n",
              "\n",
              "                                    directions_clean  \\\n",
              "0  In a heavy 2quart saucepan mix brown sugar nut...   \n",
              "1  Place chipped beef on bottom of baking dish Pl...   \n",
              "2  In a slow cooker combine all ingredients Cover...   \n",
              "3  Boil and debone chicken Put bite size pieces i...   \n",
              "4  Combine first four ingredients and press in 13...   \n",
              "\n",
              "                          directions_clean_tokenized  \n",
              "0  [,  ,  ,  ,  ,  ,  ,  ,  ,  ,  ,  ,  ,  ,  ,  ...  \n",
              "1  [,  ,  ,  ,  ,  ,  ,  ,  ,  ,  ,  ,  ,  ,  ,  ...  \n",
              "2  [,  ,  ,  ,  ,  ,  ,  ,  ,  ,  ,  ,  ,  ,  ,  ...  \n",
              "3  [,  ,  ,  ,  ,  ,  ,  ,  ,  ,  ,  ,  ,  ,  ,  ...  \n",
              "4  [,  ,  ,  ,  ,  ,  ,  ,  ,  ,  ,  ,  ,  ,  ,  ...  "
            ],
            "text/html": [
              "\n",
              "  <div id=\"df-3db3e9f0-ec1e-4965-a7a6-ce79c9ce63ac\">\n",
              "    <div class=\"colab-df-container\">\n",
              "      <div>\n",
              "<style scoped>\n",
              "    .dataframe tbody tr th:only-of-type {\n",
              "        vertical-align: middle;\n",
              "    }\n",
              "\n",
              "    .dataframe tbody tr th {\n",
              "        vertical-align: top;\n",
              "    }\n",
              "\n",
              "    .dataframe thead th {\n",
              "        text-align: right;\n",
              "    }\n",
              "</style>\n",
              "<table border=\"1\" class=\"dataframe\">\n",
              "  <thead>\n",
              "    <tr style=\"text-align: right;\">\n",
              "      <th></th>\n",
              "      <th>Unnamed: 0</th>\n",
              "      <th>title</th>\n",
              "      <th>ingredients</th>\n",
              "      <th>directions</th>\n",
              "      <th>link</th>\n",
              "      <th>source</th>\n",
              "      <th>NER</th>\n",
              "      <th>directions_clean</th>\n",
              "      <th>directions_clean_tokenized</th>\n",
              "    </tr>\n",
              "  </thead>\n",
              "  <tbody>\n",
              "    <tr>\n",
              "      <th>0</th>\n",
              "      <td>0</td>\n",
              "      <td>No-Bake Nut Cookies</td>\n",
              "      <td>[\"1 c. firmly packed brown sugar\", \"1/2 c. eva...</td>\n",
              "      <td>[\"In a heavy 2-quart saucepan, mix brown sugar...</td>\n",
              "      <td>www.cookbooks.com/Recipe-Details.aspx?id=44874</td>\n",
              "      <td>Gathered</td>\n",
              "      <td>[\"brown sugar\", \"milk\", \"vanilla\", \"nuts\", \"bu...</td>\n",
              "      <td>In a heavy 2quart saucepan mix brown sugar nut...</td>\n",
              "      <td>[,  ,  ,  ,  ,  ,  ,  ,  ,  ,  ,  ,  ,  ,  ,  ...</td>\n",
              "    </tr>\n",
              "    <tr>\n",
              "      <th>1</th>\n",
              "      <td>1</td>\n",
              "      <td>Jewell Ball'S Chicken</td>\n",
              "      <td>[\"1 small jar chipped beef, cut up\", \"4 boned ...</td>\n",
              "      <td>[\"Place chipped beef on bottom of baking dish....</td>\n",
              "      <td>www.cookbooks.com/Recipe-Details.aspx?id=699419</td>\n",
              "      <td>Gathered</td>\n",
              "      <td>[\"beef\", \"chicken breasts\", \"cream of mushroom...</td>\n",
              "      <td>Place chipped beef on bottom of baking dish Pl...</td>\n",
              "      <td>[,  ,  ,  ,  ,  ,  ,  ,  ,  ,  ,  ,  ,  ,  ,  ...</td>\n",
              "    </tr>\n",
              "    <tr>\n",
              "      <th>2</th>\n",
              "      <td>2</td>\n",
              "      <td>Creamy Corn</td>\n",
              "      <td>[\"2 (16 oz.) pkg. frozen corn\", \"1 (8 oz.) pkg...</td>\n",
              "      <td>[\"In a slow cooker, combine all ingredients. C...</td>\n",
              "      <td>www.cookbooks.com/Recipe-Details.aspx?id=10570</td>\n",
              "      <td>Gathered</td>\n",
              "      <td>[\"frozen corn\", \"cream cheese\", \"butter\", \"gar...</td>\n",
              "      <td>In a slow cooker combine all ingredients Cover...</td>\n",
              "      <td>[,  ,  ,  ,  ,  ,  ,  ,  ,  ,  ,  ,  ,  ,  ,  ...</td>\n",
              "    </tr>\n",
              "    <tr>\n",
              "      <th>3</th>\n",
              "      <td>3</td>\n",
              "      <td>Chicken Funny</td>\n",
              "      <td>[\"1 large whole chicken\", \"2 (10 1/2 oz.) cans...</td>\n",
              "      <td>[\"Boil and debone chicken.\", \"Put bite size pi...</td>\n",
              "      <td>www.cookbooks.com/Recipe-Details.aspx?id=897570</td>\n",
              "      <td>Gathered</td>\n",
              "      <td>[\"chicken\", \"chicken gravy\", \"cream of mushroo...</td>\n",
              "      <td>Boil and debone chicken Put bite size pieces i...</td>\n",
              "      <td>[,  ,  ,  ,  ,  ,  ,  ,  ,  ,  ,  ,  ,  ,  ,  ...</td>\n",
              "    </tr>\n",
              "    <tr>\n",
              "      <th>4</th>\n",
              "      <td>4</td>\n",
              "      <td>Reeses Cups(Candy)</td>\n",
              "      <td>[\"1 c. peanut butter\", \"3/4 c. graham cracker ...</td>\n",
              "      <td>[\"Combine first four ingredients and press in ...</td>\n",
              "      <td>www.cookbooks.com/Recipe-Details.aspx?id=659239</td>\n",
              "      <td>Gathered</td>\n",
              "      <td>[\"peanut butter\", \"graham cracker crumbs\", \"bu...</td>\n",
              "      <td>Combine first four ingredients and press in 13...</td>\n",
              "      <td>[,  ,  ,  ,  ,  ,  ,  ,  ,  ,  ,  ,  ,  ,  ,  ...</td>\n",
              "    </tr>\n",
              "  </tbody>\n",
              "</table>\n",
              "</div>\n",
              "      <button class=\"colab-df-convert\" onclick=\"convertToInteractive('df-3db3e9f0-ec1e-4965-a7a6-ce79c9ce63ac')\"\n",
              "              title=\"Convert this dataframe to an interactive table.\"\n",
              "              style=\"display:none;\">\n",
              "        \n",
              "  <svg xmlns=\"http://www.w3.org/2000/svg\" height=\"24px\"viewBox=\"0 0 24 24\"\n",
              "       width=\"24px\">\n",
              "    <path d=\"M0 0h24v24H0V0z\" fill=\"none\"/>\n",
              "    <path d=\"M18.56 5.44l.94 2.06.94-2.06 2.06-.94-2.06-.94-.94-2.06-.94 2.06-2.06.94zm-11 1L8.5 8.5l.94-2.06 2.06-.94-2.06-.94L8.5 2.5l-.94 2.06-2.06.94zm10 10l.94 2.06.94-2.06 2.06-.94-2.06-.94-.94-2.06-.94 2.06-2.06.94z\"/><path d=\"M17.41 7.96l-1.37-1.37c-.4-.4-.92-.59-1.43-.59-.52 0-1.04.2-1.43.59L10.3 9.45l-7.72 7.72c-.78.78-.78 2.05 0 2.83L4 21.41c.39.39.9.59 1.41.59.51 0 1.02-.2 1.41-.59l7.78-7.78 2.81-2.81c.8-.78.8-2.07 0-2.86zM5.41 20L4 18.59l7.72-7.72 1.47 1.35L5.41 20z\"/>\n",
              "  </svg>\n",
              "      </button>\n",
              "      \n",
              "  <style>\n",
              "    .colab-df-container {\n",
              "      display:flex;\n",
              "      flex-wrap:wrap;\n",
              "      gap: 12px;\n",
              "    }\n",
              "\n",
              "    .colab-df-convert {\n",
              "      background-color: #E8F0FE;\n",
              "      border: none;\n",
              "      border-radius: 50%;\n",
              "      cursor: pointer;\n",
              "      display: none;\n",
              "      fill: #1967D2;\n",
              "      height: 32px;\n",
              "      padding: 0 0 0 0;\n",
              "      width: 32px;\n",
              "    }\n",
              "\n",
              "    .colab-df-convert:hover {\n",
              "      background-color: #E2EBFA;\n",
              "      box-shadow: 0px 1px 2px rgba(60, 64, 67, 0.3), 0px 1px 3px 1px rgba(60, 64, 67, 0.15);\n",
              "      fill: #174EA6;\n",
              "    }\n",
              "\n",
              "    [theme=dark] .colab-df-convert {\n",
              "      background-color: #3B4455;\n",
              "      fill: #D2E3FC;\n",
              "    }\n",
              "\n",
              "    [theme=dark] .colab-df-convert:hover {\n",
              "      background-color: #434B5C;\n",
              "      box-shadow: 0px 1px 3px 1px rgba(0, 0, 0, 0.15);\n",
              "      filter: drop-shadow(0px 1px 2px rgba(0, 0, 0, 0.3));\n",
              "      fill: #FFFFFF;\n",
              "    }\n",
              "  </style>\n",
              "\n",
              "      <script>\n",
              "        const buttonEl =\n",
              "          document.querySelector('#df-3db3e9f0-ec1e-4965-a7a6-ce79c9ce63ac button.colab-df-convert');\n",
              "        buttonEl.style.display =\n",
              "          google.colab.kernel.accessAllowed ? 'block' : 'none';\n",
              "\n",
              "        async function convertToInteractive(key) {\n",
              "          const element = document.querySelector('#df-3db3e9f0-ec1e-4965-a7a6-ce79c9ce63ac');\n",
              "          const dataTable =\n",
              "            await google.colab.kernel.invokeFunction('convertToInteractive',\n",
              "                                                     [key], {});\n",
              "          if (!dataTable) return;\n",
              "\n",
              "          const docLinkHtml = 'Like what you see? Visit the ' +\n",
              "            '<a target=\"_blank\" href=https://colab.research.google.com/notebooks/data_table.ipynb>data table notebook</a>'\n",
              "            + ' to learn more about interactive tables.';\n",
              "          element.innerHTML = '';\n",
              "          dataTable['output_type'] = 'display_data';\n",
              "          await google.colab.output.renderOutput(dataTable, element);\n",
              "          const docLink = document.createElement('div');\n",
              "          docLink.innerHTML = docLinkHtml;\n",
              "          element.appendChild(docLink);\n",
              "        }\n",
              "      </script>\n",
              "    </div>\n",
              "  </div>\n",
              "  "
            ]
          },
          "metadata": {},
          "execution_count": 12
        }
      ]
    },
    {
      "cell_type": "code",
      "source": [
        "from nltk.corpus import stopwords\n",
        "from nltk.stem import PorterStemmer\n",
        "ps = PorterStemmer()\n",
        "def clean_text(txt):\n",
        "    txt=\"\".join([c for c in txt if c not in string.punctuation])\n",
        "    tokens=re.split('\\w+',txt)\n",
        "    txt=[ps.stem(word) for word in tokens if word not in stopwords.words('english')]\n",
        "    return txt"
      ],
      "metadata": {
        "id": "vFEMtv63uUX0"
      },
      "execution_count": 28,
      "outputs": []
    },
    {
      "cell_type": "markdown",
      "source": [
        "## **tfidf vectorizer**"
      ],
      "metadata": {
        "id": "DJMK5BoMeH2H"
      }
    },
    {
      "cell_type": "code",
      "source": [
        "from sklearn.feature_extraction.text import TfidfVectorizer\n",
        "dataset_sample=dataset[0:]\n",
        "tfidf=TfidfVectorizer(analyzer=clean_text)\n",
        "x=tfidf.fit_transform(dataset['NER'])\n",
        "print(x.shape)"
      ],
      "metadata": {
        "id": "nqxDHn-AnPqe"
      },
      "execution_count": null,
      "outputs": []
    },
    {
      "cell_type": "code",
      "source": [
        "df=pd.DataFrame(x.toarray(),columns=tfidf.get_feature_names_out())\n",
        "df.head(5)"
      ],
      "metadata": {
        "colab": {
          "base_uri": "https://localhost:8080/",
          "height": 189
        },
        "id": "g0WHPWZIn-uS",
        "outputId": "6ff35928-18c5-47f8-c4ab-09997cdb5d67"
      },
      "execution_count": 27,
      "outputs": [
        {
          "output_type": "error",
          "ename": "NameError",
          "evalue": "ignored",
          "traceback": [
            "\u001b[0;31m---------------------------------------------------------------------------\u001b[0m",
            "\u001b[0;31mNameError\u001b[0m                                 Traceback (most recent call last)",
            "\u001b[0;32m<ipython-input-27-1e685f54d7fc>\u001b[0m in \u001b[0;36m<module>\u001b[0;34m()\u001b[0m\n\u001b[0;32m----> 1\u001b[0;31m \u001b[0mdf\u001b[0m\u001b[0;34m=\u001b[0m\u001b[0mpd\u001b[0m\u001b[0;34m.\u001b[0m\u001b[0mDataFrame\u001b[0m\u001b[0;34m(\u001b[0m\u001b[0mx\u001b[0m\u001b[0;34m.\u001b[0m\u001b[0mtoarray\u001b[0m\u001b[0;34m(\u001b[0m\u001b[0;34m)\u001b[0m\u001b[0;34m,\u001b[0m\u001b[0mcolumns\u001b[0m\u001b[0;34m=\u001b[0m\u001b[0mtfidf\u001b[0m\u001b[0;34m.\u001b[0m\u001b[0mget_feature_names_out\u001b[0m\u001b[0;34m(\u001b[0m\u001b[0;34m)\u001b[0m\u001b[0;34m)\u001b[0m\u001b[0;34m\u001b[0m\u001b[0;34m\u001b[0m\u001b[0m\n\u001b[0m\u001b[1;32m      2\u001b[0m \u001b[0mdf\u001b[0m\u001b[0;34m.\u001b[0m\u001b[0mhead\u001b[0m\u001b[0;34m(\u001b[0m\u001b[0;34m)\u001b[0m\u001b[0;34m\u001b[0m\u001b[0;34m\u001b[0m\u001b[0m\n",
            "\u001b[0;31mNameError\u001b[0m: name 'x' is not defined"
          ]
        }
      ]
    }
  ]
}